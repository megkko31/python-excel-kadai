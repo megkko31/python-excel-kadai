{
  "nbformat": 4,
  "nbformat_minor": 0,
  "metadata": {
    "colab": {
      "provenance": []
    },
    "kernelspec": {
      "name": "python3",
      "display_name": "Python 3"
    },
    "language_info": {
      "name": "python"
    }
  },
  "cells": [
    {
      "cell_type": "code",
      "execution_count": null,
      "metadata": {
        "id": "m_veb1mQrr0n"
      },
      "outputs": [],
      "source": []
    },
    {
      "cell_type": "code",
      "execution_count": null,
      "metadata": {
        "colab": {
          "base_uri": "https://localhost:8080/",
          "height": 327
        },
        "id": "g7RjXwqD2CSG",
        "outputId": "83d07639-3a05-4222-c8c9-b10c6f845e56"
      },
      "outputs": [
        {
          "output_type": "stream",
          "name": "stdout",
          "text": [
            "Collecting openpyxl==3.0.10\n",
            "  Downloading openpyxl-3.0.10-py2.py3-none-any.whl.metadata (2.4 kB)\n",
            "Requirement already satisfied: et-xmlfile in /usr/local/lib/python3.11/dist-packages (from openpyxl==3.0.10) (2.0.0)\n",
            "Downloading openpyxl-3.0.10-py2.py3-none-any.whl (242 kB)\n",
            "\u001b[?25l   \u001b[90m━━━━━━━━━━━━━━━━━━━━━━━━━━━━━━━━━━━━━━━━\u001b[0m \u001b[32m0.0/242.1 kB\u001b[0m \u001b[31m?\u001b[0m eta \u001b[36m-:--:--\u001b[0m\r\u001b[2K   \u001b[91m━━━━━━━━━━━━━━━━━━━━━━━━━\u001b[0m\u001b[90m╺\u001b[0m\u001b[90m━━━━━━━━━━━━━━\u001b[0m \u001b[32m153.6/242.1 kB\u001b[0m \u001b[31m4.7 MB/s\u001b[0m eta \u001b[36m0:00:01\u001b[0m\r\u001b[2K   \u001b[90m━━━━━━━━━━━━━━━━━━━━━━━━━━━━━━━━━━━━━━━━\u001b[0m \u001b[32m242.1/242.1 kB\u001b[0m \u001b[31m4.5 MB/s\u001b[0m eta \u001b[36m0:00:00\u001b[0m\n",
            "\u001b[?25hInstalling collected packages: openpyxl\n",
            "  Attempting uninstall: openpyxl\n",
            "    Found existing installation: openpyxl 3.1.5\n",
            "    Uninstalling openpyxl-3.1.5:\n",
            "      Successfully uninstalled openpyxl-3.1.5\n",
            "Successfully installed openpyxl-3.0.10\n"
          ]
        },
        {
          "output_type": "display_data",
          "data": {
            "application/vnd.colab-display-data+json": {
              "pip_warning": {
                "packages": [
                  "openpyxl"
                ]
              },
              "id": "7e925d0e0194459f9431c3ce96db0f24"
            }
          },
          "metadata": {}
        }
      ],
      "source": [
        "!pip install openpyxl==3.0.10"
      ]
    },
    {
      "cell_type": "code",
      "source": [
        "import openpyxl\n",
        "from datetime import datetime\n",
        "\n",
        "workbook = openpyxl.Workbook()\n",
        "sheet = workbook.active\n",
        "sheet.title = \"請求書\"\n",
        "\n",
        "now = datetime.now()\n",
        "date_str = now.strftime('%Y%m%d')\n",
        "today_str = now.strftime('%Y%m%d')\n",
        "\n",
        "\n",
        "sheet[\"B2\"]=\"請求書\"\n",
        "sheet[\"B4\"]=\"株式会社ABC\"\n",
        "sheet[\"B5\"]=\"〒101-0022 東京都千代田区神田練塀町300\"\n",
        "sheet[\"B6\"]=\"TEL:03-1234-5678 FAX:03-1234-5678\"\n",
        "sheet[\"B7\"]=\"担当者名：鈴木一郎 様\"\n",
        "\n",
        "sheet[\"F4\"]=\"No.\"\n",
        "sheet[\"F5\"]=\"日付\"\n",
        "sheet[\"G4\"]=\"0001\"\n",
        "sheet[\"G5\"]=today_str\n",
        "\n",
        "sheet[\"B10\"]=\"商品名\"\n",
        "sheet[\"C10\"]=\"数量\"\n",
        "sheet[\"D10\"]=\"単価\"\n",
        "sheet[\"E10\"]=\"金額\"\n",
        "\n",
        "sheet[\"B11\"]=\"商品A\"\n",
        "sheet[\"C11\"]=\"2\"\n",
        "sheet[\"D11\"]=\"10000\"\n",
        "sheet[\"E11\"]= \"20000\"\n",
        "\n",
        "sheet[\"B12\"]=\"商品B\"\n",
        "sheet[\"C12\"]=\"1\"\n",
        "sheet[\"D12\"]=\"15000\"\n",
        "sheet[\"E12\"]=\"15000\"\n",
        "sheet[\"E13\"]=\"=SUM(E11＋E12)\"\n",
        "\n",
        "sheet[\"B15\"]=\"小計\"\n",
        "sheet[\"B16\"]=\"消費税\"\n",
        "sheet[\"B17\"]=\"合計\"\n",
        "\n",
        "sheet[\"E15\"]=\"=E13\"\n",
        "sheet[\"E16\"]=\"=E13*0.1\"\n",
        "sheet[\"E17\"]=\"=SUM(E15＋E16)\"\n",
        "\n",
        "filename = f\"請求書2_{today_str}.xlsx\"\n",
        "workbook.save(filename)\n",
        "\n",
        "from google.colab import files\n",
        "files.download(filename)\n",
        "\n"
      ],
      "metadata": {
        "colab": {
          "base_uri": "https://localhost:8080/",
          "height": 17
        },
        "outputId": "2bb78e64-f627-4116-aeda-6c703f065ae8",
        "id": "8L5gYIrTsVtQ"
      },
      "execution_count": null,
      "outputs": [
        {
          "output_type": "display_data",
          "data": {
            "text/plain": [
              "<IPython.core.display.Javascript object>"
            ],
            "application/javascript": [
              "\n",
              "    async function download(id, filename, size) {\n",
              "      if (!google.colab.kernel.accessAllowed) {\n",
              "        return;\n",
              "      }\n",
              "      const div = document.createElement('div');\n",
              "      const label = document.createElement('label');\n",
              "      label.textContent = `Downloading \"${filename}\": `;\n",
              "      div.appendChild(label);\n",
              "      const progress = document.createElement('progress');\n",
              "      progress.max = size;\n",
              "      div.appendChild(progress);\n",
              "      document.body.appendChild(div);\n",
              "\n",
              "      const buffers = [];\n",
              "      let downloaded = 0;\n",
              "\n",
              "      const channel = await google.colab.kernel.comms.open(id);\n",
              "      // Send a message to notify the kernel that we're ready.\n",
              "      channel.send({})\n",
              "\n",
              "      for await (const message of channel.messages) {\n",
              "        // Send a message to notify the kernel that we're ready.\n",
              "        channel.send({})\n",
              "        if (message.buffers) {\n",
              "          for (const buffer of message.buffers) {\n",
              "            buffers.push(buffer);\n",
              "            downloaded += buffer.byteLength;\n",
              "            progress.value = downloaded;\n",
              "          }\n",
              "        }\n",
              "      }\n",
              "      const blob = new Blob(buffers, {type: 'application/binary'});\n",
              "      const a = document.createElement('a');\n",
              "      a.href = window.URL.createObjectURL(blob);\n",
              "      a.download = filename;\n",
              "      div.appendChild(a);\n",
              "      a.click();\n",
              "      div.remove();\n",
              "    }\n",
              "  "
            ]
          },
          "metadata": {}
        },
        {
          "output_type": "display_data",
          "data": {
            "text/plain": [
              "<IPython.core.display.Javascript object>"
            ],
            "application/javascript": [
              "download(\"download_17d9b435-c0e6-4787-ad27-88769864937f\", \"\\u8acb\\u6c42\\u66f82_20250531.xlsx\", 5275)"
            ]
          },
          "metadata": {}
        }
      ]
    }
  ]
}